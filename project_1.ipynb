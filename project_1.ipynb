{
 "cells": [
  {
   "cell_type": "code",
   "execution_count": null,
   "id": "5b514737-1a23-4da2-8981-2b3672427a32",
   "metadata": {},
   "outputs": [],
   "source": [
    "import pandas as pd\n",
    "import matplotlib.pyplot as plt\n",
    "import requests\n",
    "import io\n",
    "import os\n",
    "import base64\n",
    "import time\n",
    "from dotenv import load_dotenv\n",
    "from collections import OrderedDict\n",
    "from datetime import date, timedelta"
   ]
  },
  {
   "cell_type": "code",
   "execution_count": null,
   "id": "c842d983-9efc-46be-9119-a8fd29fe0d4f",
   "metadata": {},
   "outputs": [],
   "source": [
    "start_date = date(2022, 1, 1)\n",
    "end_date = date(2024, 8, 8)\n",
    "\n",
    "current_date = start_date\n",
    "billboard_dfs = []\n",
    "while(current_date <= end_date):\n",
    "    current_csv = f\"{current_date.strftime('%Y-%m-%d')}.csv\"\n",
    "    billboard_data = requests.get(f\"https://raw.githubusercontent.com/utdata/rwd-billboard-data/main/data-scraped/hot-100/{current_date.year}/{current_csv}\").content\n",
    "    print(f\"Fetched {current_csv}\")\n",
    "    \n",
    "    current_billboard_df = pd.read_csv(io.StringIO(billboard_data.decode(\"utf-8\"))).loc[:9]\n",
    "    billboard_dfs.append(current_billboard_df)\n",
    "    current_date += timedelta(days=7)"
   ]
  },
  {
   "cell_type": "code",
   "execution_count": null,
   "id": "b3484637-51fc-4403-b7bf-66d31eea3fe7",
   "metadata": {},
   "outputs": [],
   "source": [
    "billboard_df = pd.concat(billboard_dfs).reset_index()[[\"chart_week\", \"current_week\", \"title\", \"performer\"]]\n",
    "billboard_df[\"chart_week\"] = pd.to_datetime(billboard_df[\"chart_week\"])\n",
    "billboard_df"
   ]
  },
  {
   "cell_type": "code",
   "execution_count": null,
   "id": "9ca7ee88-607c-43df-a43b-63969fa87708",
   "metadata": {},
   "outputs": [],
   "source": [
    "load_dotenv()\n",
    "client_id = os.getenv(\"SPOTIFY_CLIENT_ID\")\n",
    "client_secret = os.getenv(\"SPOTIFY_CLIENT_SECRET\")\n",
    "\n",
    "credentials = f\"{client_id}:{client_secret}\"\n",
    "base64_credentials = base64.b64encode(credentials.encode()).decode()\n",
    "\n",
    "auth_options = {\n",
    "    \"headers\": {\"Authorization\": f\"Basic {base64_credentials}\"},\n",
    "    \"data\": {\"grant_type\": \"client_credentials\"}\n",
    "}\n",
    "auth_response = requests.post(\"https://accounts.spotify.com/api/token\", headers=auth_options[\"headers\"], data=auth_options[\"data\"]).json()\n",
    "access_token = auth_response[\"access_token\"]\n",
    "access_token"
   ]
  },
  {
   "cell_type": "code",
   "execution_count": null,
   "id": "91a0173d-42ba-4c7a-b100-95bf20d9b420",
   "metadata": {},
   "outputs": [],
   "source": [
    "def parse_artist(artist):\n",
    "    return artist.split(\"X\")[0].split(\"&\")[0].split(\",\")[0].split(\"Featuring\")[0].strip()\n",
    "\n",
    "def parse_song_name(name):\n",
    "    if \"*\" in name:\n",
    "        words = name.split(\" \")\n",
    "        replaced_words = []\n",
    "        for word in words:\n",
    "            if \"*\" in word:\n",
    "                new_word = word[0] + \"*\" * (len(word) - 1)\n",
    "                replaced_words.append(new_word)\n",
    "            else:\n",
    "                replaced_words.append(word)\n",
    "        return \" \".join(replaced_words)\n",
    "    return name"
   ]
  },
  {
   "cell_type": "code",
   "execution_count": null,
   "id": "aa9774c5-0394-4376-a114-626093cb53c4",
   "metadata": {},
   "outputs": [],
   "source": [
    "track_info = OrderedDict()\n",
    "def find_track_id(song):\n",
    "    name = parse_song_name(song[\"title\"])\n",
    "    artist = parse_artist(song[\"performer\"])\n",
    "\n",
    "    if((name, artist) not in track_info):\n",
    "        while True:\n",
    "            search_response = requests.get(\n",
    "                \"https://api.spotify.com/v1/search\",\n",
    "                headers={\"Authorization\": f\"Bearer {access_token}\"},\n",
    "                params={\n",
    "                    \"q\":  f\"{name} {artist}\",\n",
    "                    \"type\": \"track\",\n",
    "                    \"limit\": 1\n",
    "                }\n",
    "            )\n",
    "            if search_response.status_code == 429:\n",
    "                print(\"Too many requests. Retrying in 30 seconds...\")\n",
    "                time.sleep(30)\n",
    "            else:\n",
    "                try:\n",
    "                    track_id = search_response.json()[\"tracks\"][\"items\"][0][\"id\"]\n",
    "                    track_info[(name, artist)] = {\"id\": track_id}\n",
    "                    print(f\"Id for '{name}' by '{artist}' is {track_id}\")\n",
    "                except:\n",
    "                    print(f\"Error in '{name}' by '{artist}'\")\n",
    "                    print(search_response.json())\n",
    "                break\n",
    "\n",
    "billboard_df.apply(find_track_id, axis=1)\n",
    "print(f\"Total number of track ids found: {len(track_info)}\")"
   ]
  },
  {
   "cell_type": "code",
   "execution_count": null,
   "id": "8fe2f284-1264-432a-bacf-eb968267172c",
   "metadata": {},
   "outputs": [],
   "source": [
    "track_ids = [x[\"id\"] for x in track_info.values()]\n",
    "audio_features = []\n",
    "for i in range(0, len(track_ids), 100):\n",
    "    chunk = track_ids[i:i + 100]\n",
    "\n",
    "    while True:\n",
    "        audio_features_response = requests.get(\n",
    "            \"https://api.spotify.com/v1/audio-features\",\n",
    "            headers={\"Authorization\": f\"Bearer {access_token}\"},\n",
    "            params={\"ids\": \",\".join(chunk)}\n",
    "        )\n",
    "        if audio_features_response.status_code == 429:\n",
    "            print(\"Too many requests. Retrying in 30 seconds...\")\n",
    "            time.sleep(30)\n",
    "        else:\n",
    "            print(f\"Fetched audio features for tracks {i+1} to {i+len(chunk)}\")\n",
    "            audio_features += audio_features_response.json()[\"audio_features\"]\n",
    "            break\n",
    "\n",
    "for i, k in enumerate(track_info.keys()):\n",
    "    track_info[k] = audio_features[i]\n",
    "\n",
    "print(f\"Features found: {', '.join(next(iter(track_info.values())).keys())}\")"
   ]
  },
  {
   "cell_type": "code",
   "execution_count": null,
   "id": "271976c7-f4b5-4d5a-8ac8-9cca1bd82577",
   "metadata": {},
   "outputs": [],
   "source": [
    "def add_feature(song, feature):\n",
    "    name = parse_song_name(song[\"title\"])\n",
    "    artist = parse_artist(song[\"performer\"])\n",
    "    return track_info[(name, artist)][feature] if (name, artist) in track_info else None\n",
    "\n",
    "billboard_df[\"danceability\"] = billboard_df.apply(add_feature, args=(\"danceability\",), axis=1)\n",
    "billboard_df[\"energy\"] = billboard_df.apply(add_feature, args=(\"energy\",), axis=1)\n",
    "billboard_df[\"loudness\"] = billboard_df.apply(add_feature, args=(\"loudness\",), axis=1)\n",
    "billboard_df[\"speechiness\"] = billboard_df.apply(add_feature, args=(\"speechiness\",), axis=1)\n",
    "billboard_df[\"acousticness\"] = billboard_df.apply(add_feature, args=(\"acousticness\",), axis=1)\n",
    "billboard_df[\"liveness\"] = billboard_df.apply(add_feature, args=(\"liveness\",), axis=1)\n",
    "billboard_df[\"tempo\"] = billboard_df.apply(add_feature, args=(\"tempo\",), axis=1)\n",
    "\n",
    "billboard_df"
   ]
  },
  {
   "cell_type": "code",
   "execution_count": null,
   "id": "8154f03d-6660-425a-9e51-3b34e9a451be",
   "metadata": {},
   "outputs": [],
   "source": [
    "billboard_df.to_csv(\"billboard.csv\", index=False) "
   ]
  },
  {
   "cell_type": "code",
   "execution_count": null,
   "id": "41f85049-1ccd-4af5-828c-98e5b8139308",
   "metadata": {},
   "outputs": [],
   "source": [
    "billboard_fig = plt.figure(figsize=(30, 10))\n",
    "for i in range(1, 11):\n",
    "    df = billboard_df.loc[billboard_df[\"current_week\"] == i].set_index(\"chart_week\")\n",
    "    df[\"danceability\"].plot(label=i, ylabel=\"danceability\")\n",
    "    \n",
    "plt.legend()\n",
    "plt.show()"
   ]
  },
  {
   "cell_type": "code",
   "execution_count": null,
   "id": "7a4ea9c4-0efc-47a1-87ac-7eb0a02e5406",
   "metadata": {},
   "outputs": [],
   "source": [
    "gpr_data = requests.get(\"https://www.matteoiacoviello.com/gpr_files/data_gpr_daily_recent.xls\").content\n",
    "\n",
    "gpr_df = pd.DataFrame(pd.read_excel(io.BytesIO(gpr_data), index_col=\"date\", parse_dates=True)) \n",
    "gpr_df = gpr_df.loc[\"2022-01-01\":][[\"GPRD\", \"GPRD_THREAT\", \"GPRD_ACT\"]]\n",
    "gpr_df"
   ]
  },
  {
   "cell_type": "code",
   "execution_count": null,
   "id": "e2a84e33-f950-4887-bc51-4eac51cf36c9",
   "metadata": {},
   "outputs": [],
   "source": [
    "gpr_fig = plt.figure(figsize=(30, 10))\n",
    "gpr_df[\"GPRD\"].plot()\n",
    "gpr_df[\"GPRD_THREAT\"].plot()\n",
    "gpr_df[\"GPRD_ACT\"].plot()\n",
    "\n",
    "plt.legend()\n",
    "plt.show()"
   ]
  },
  {
   "cell_type": "code",
   "execution_count": null,
   "id": "d2bebfd6-6fd5-4410-9ada-5330f3ef606f",
   "metadata": {},
   "outputs": [],
   "source": []
  }
 ],
 "metadata": {
  "kernelspec": {
   "display_name": "Python 3 (ipykernel)",
   "language": "python",
   "name": "python3"
  },
  "language_info": {
   "codemirror_mode": {
    "name": "ipython",
    "version": 3
   },
   "file_extension": ".py",
   "mimetype": "text/x-python",
   "name": "python",
   "nbconvert_exporter": "python",
   "pygments_lexer": "ipython3",
   "version": "3.11.7"
  }
 },
 "nbformat": 4,
 "nbformat_minor": 5
}
