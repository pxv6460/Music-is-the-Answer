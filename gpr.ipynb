{
 "cells": [
  {
   "cell_type": "code",
   "execution_count": 5,
   "id": "1965960b-f0e8-43bb-a336-395ae698aa41",
   "metadata": {},
   "outputs": [
    {
     "name": "stdout",
     "output_type": "stream",
     "text": [
      "Failed to fetch data_gpr_export_202202.xls\n",
      "Fetched data_gpr_export_202203.xls\n"
     ]
    },
    {
     "ename": "KeyError",
     "evalue": "\"None of [Index([2.7187986373901367,  2.732469081878662, 2.1515073776245117,\\n       1.7761752605438232, 1.9701087474822998, 2.7282698154449463,\\n        3.544875144958496,  3.549736738204956,  2.008141040802002,\\n       1.2625223398208618,\\n       ...\\n                      nan,                nan,                nan,\\n                      nan,                nan,                nan,\\n                      nan,                nan,                nan,\\n                      nan],\\n      dtype='float64', length=1544)] are in the [columns]\"",
     "output_type": "error",
     "traceback": [
      "\u001b[1;31m---------------------------------------------------------------------------\u001b[0m",
      "\u001b[1;31mKeyError\u001b[0m                                  Traceback (most recent call last)",
      "Cell \u001b[1;32mIn[5], line 39\u001b[0m\n\u001b[0;32m     36\u001b[0m current_gpr_df \u001b[38;5;241m=\u001b[39m pd\u001b[38;5;241m.\u001b[39mread_excel(file_data)\n\u001b[0;32m     38\u001b[0m \u001b[38;5;66;03m# Filter for US data \u001b[39;00m\n\u001b[1;32m---> 39\u001b[0m current_gpr_df \u001b[38;5;241m=\u001b[39m current_gpr_df[current_gpr_df[\u001b[38;5;124m'\u001b[39m\u001b[38;5;124mGPRHC_USA\u001b[39m\u001b[38;5;124m'\u001b[39m]]\n\u001b[0;32m     41\u001b[0m \u001b[38;5;66;03m# Append the dataframe to the list\u001b[39;00m\n\u001b[0;32m     42\u001b[0m gpr_dfs\u001b[38;5;241m.\u001b[39mappend(current_gpr_df)\n",
      "File \u001b[1;32m~\\anaconda3\\Lib\\site-packages\\pandas\\core\\frame.py:3899\u001b[0m, in \u001b[0;36mDataFrame.__getitem__\u001b[1;34m(self, key)\u001b[0m\n\u001b[0;32m   3897\u001b[0m     \u001b[38;5;28;01mif\u001b[39;00m is_iterator(key):\n\u001b[0;32m   3898\u001b[0m         key \u001b[38;5;241m=\u001b[39m \u001b[38;5;28mlist\u001b[39m(key)\n\u001b[1;32m-> 3899\u001b[0m     indexer \u001b[38;5;241m=\u001b[39m \u001b[38;5;28mself\u001b[39m\u001b[38;5;241m.\u001b[39mcolumns\u001b[38;5;241m.\u001b[39m_get_indexer_strict(key, \u001b[38;5;124m\"\u001b[39m\u001b[38;5;124mcolumns\u001b[39m\u001b[38;5;124m\"\u001b[39m)[\u001b[38;5;241m1\u001b[39m]\n\u001b[0;32m   3901\u001b[0m \u001b[38;5;66;03m# take() does not accept boolean indexers\u001b[39;00m\n\u001b[0;32m   3902\u001b[0m \u001b[38;5;28;01mif\u001b[39;00m \u001b[38;5;28mgetattr\u001b[39m(indexer, \u001b[38;5;124m\"\u001b[39m\u001b[38;5;124mdtype\u001b[39m\u001b[38;5;124m\"\u001b[39m, \u001b[38;5;28;01mNone\u001b[39;00m) \u001b[38;5;241m==\u001b[39m \u001b[38;5;28mbool\u001b[39m:\n",
      "File \u001b[1;32m~\\anaconda3\\Lib\\site-packages\\pandas\\core\\indexes\\base.py:6115\u001b[0m, in \u001b[0;36mIndex._get_indexer_strict\u001b[1;34m(self, key, axis_name)\u001b[0m\n\u001b[0;32m   6112\u001b[0m \u001b[38;5;28;01melse\u001b[39;00m:\n\u001b[0;32m   6113\u001b[0m     keyarr, indexer, new_indexer \u001b[38;5;241m=\u001b[39m \u001b[38;5;28mself\u001b[39m\u001b[38;5;241m.\u001b[39m_reindex_non_unique(keyarr)\n\u001b[1;32m-> 6115\u001b[0m \u001b[38;5;28mself\u001b[39m\u001b[38;5;241m.\u001b[39m_raise_if_missing(keyarr, indexer, axis_name)\n\u001b[0;32m   6117\u001b[0m keyarr \u001b[38;5;241m=\u001b[39m \u001b[38;5;28mself\u001b[39m\u001b[38;5;241m.\u001b[39mtake(indexer)\n\u001b[0;32m   6118\u001b[0m \u001b[38;5;28;01mif\u001b[39;00m \u001b[38;5;28misinstance\u001b[39m(key, Index):\n\u001b[0;32m   6119\u001b[0m     \u001b[38;5;66;03m# GH 42790 - Preserve name from an Index\u001b[39;00m\n",
      "File \u001b[1;32m~\\anaconda3\\Lib\\site-packages\\pandas\\core\\indexes\\base.py:6176\u001b[0m, in \u001b[0;36mIndex._raise_if_missing\u001b[1;34m(self, key, indexer, axis_name)\u001b[0m\n\u001b[0;32m   6174\u001b[0m     \u001b[38;5;28;01mif\u001b[39;00m use_interval_msg:\n\u001b[0;32m   6175\u001b[0m         key \u001b[38;5;241m=\u001b[39m \u001b[38;5;28mlist\u001b[39m(key)\n\u001b[1;32m-> 6176\u001b[0m     \u001b[38;5;28;01mraise\u001b[39;00m \u001b[38;5;167;01mKeyError\u001b[39;00m(\u001b[38;5;124mf\u001b[39m\u001b[38;5;124m\"\u001b[39m\u001b[38;5;124mNone of [\u001b[39m\u001b[38;5;132;01m{\u001b[39;00mkey\u001b[38;5;132;01m}\u001b[39;00m\u001b[38;5;124m] are in the [\u001b[39m\u001b[38;5;132;01m{\u001b[39;00maxis_name\u001b[38;5;132;01m}\u001b[39;00m\u001b[38;5;124m]\u001b[39m\u001b[38;5;124m\"\u001b[39m)\n\u001b[0;32m   6178\u001b[0m not_found \u001b[38;5;241m=\u001b[39m \u001b[38;5;28mlist\u001b[39m(ensure_index(key)[missing_mask\u001b[38;5;241m.\u001b[39mnonzero()[\u001b[38;5;241m0\u001b[39m]]\u001b[38;5;241m.\u001b[39munique())\n\u001b[0;32m   6179\u001b[0m \u001b[38;5;28;01mraise\u001b[39;00m \u001b[38;5;167;01mKeyError\u001b[39;00m(\u001b[38;5;124mf\u001b[39m\u001b[38;5;124m\"\u001b[39m\u001b[38;5;132;01m{\u001b[39;00mnot_found\u001b[38;5;132;01m}\u001b[39;00m\u001b[38;5;124m not in index\u001b[39m\u001b[38;5;124m\"\u001b[39m)\n",
      "\u001b[1;31mKeyError\u001b[0m: \"None of [Index([2.7187986373901367,  2.732469081878662, 2.1515073776245117,\\n       1.7761752605438232, 1.9701087474822998, 2.7282698154449463,\\n        3.544875144958496,  3.549736738204956,  2.008141040802002,\\n       1.2625223398208618,\\n       ...\\n                      nan,                nan,                nan,\\n                      nan,                nan,                nan,\\n                      nan,                nan,                nan,\\n                      nan],\\n      dtype='float64', length=1544)] are in the [columns]\""
     ]
    }
   ],
   "source": [
    "import pandas as pd\n",
    "import requests\n",
    "import io\n",
    "from datetime import date, timedelta\n",
    "\n",
    "# Define the date range\n",
    "start_date = date(2022, 2, 24)\n",
    "end_date = date(2024, 8, 8)\n",
    "\n",
    "# Initialize the current date\n",
    "current_date = start_date\n",
    "\n",
    "# Initialize an empty list to hold dataframes\n",
    "gpr_dfs = []\n",
    "\n",
    "# Base URL for the repository\n",
    "base_url = \"https://github.com/iacoviel/iacoviel.github.io/raw/master/gpr_archive_files/\"\n",
    "\n",
    "# Loop through the date range, incrementing by one week each iteration\n",
    "while current_date <= end_date:\n",
    "    # Generate the filename for the current date\n",
    "    current_filename = f\"data_gpr_export_{current_date.strftime('%Y%m')}.xls\"\n",
    "    \n",
    "    # Construct the URL for the current XLS file\n",
    "    url = base_url + current_filename\n",
    "    \n",
    "    # Fetch the data from the URL\n",
    "    response = requests.get(url)\n",
    "    \n",
    "    # Check if the request was successful\n",
    "    if response.status_code == 200:\n",
    "        print(f\"Fetched {current_filename}\")\n",
    "        \n",
    "        # Read the XLS data into a dataframe\n",
    "        file_data = io.BytesIO(response.content)\n",
    "        current_gpr_df = pd.read_excel(file_data)\n",
    "        \n",
    "        # Filter for US data \n",
    "        current_gpr_df = current_gpr_df[current_gpr_df['GPRHC_USA']]\n",
    "        \n",
    "        # Append the dataframe to the list\n",
    "        gpr_dfs.append(current_gpr_df)\n",
    "    else:\n",
    "        print(f\"Failed to fetch {current_filename}\")\n",
    "    \n",
    "    # Increment the current date by 7 days\n",
    "    current_date += timedelta(days=20)\n",
    "\n",
    "# Concatenate all dataframes in the list into a single dataframe\n",
    "merged_df = pd.concat(gpr_dfs, ignore_index=True)\n",
    "\n",
    "# Display the merged dataframe\n",
    "print(merged_df)"
   ]
  },
  {
   "cell_type": "code",
   "execution_count": null,
   "id": "c4eb9c50-3df0-4717-90c8-6ef479a4bda3",
   "metadata": {},
   "outputs": [],
   "source": []
  }
 ],
 "metadata": {
  "kernelspec": {
   "display_name": "Python 3 (ipykernel)",
   "language": "python",
   "name": "python3"
  },
  "language_info": {
   "codemirror_mode": {
    "name": "ipython",
    "version": 3
   },
   "file_extension": ".py",
   "mimetype": "text/x-python",
   "name": "python",
   "nbconvert_exporter": "python",
   "pygments_lexer": "ipython3",
   "version": "3.11.7"
  }
 },
 "nbformat": 4,
 "nbformat_minor": 5
}
